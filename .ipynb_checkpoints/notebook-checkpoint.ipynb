{
 "cells": [
  {
   "cell_type": "code",
   "execution_count": 9,
   "metadata": {
    "execution": {
     "iopub.execute_input": "2020-09-14T13:24:32.917328Z",
     "iopub.status.busy": "2020-09-14T13:24:32.916957Z",
     "iopub.status.idle": "2020-09-14T13:24:33.659121Z",
     "shell.execute_reply": "2020-09-14T13:24:33.656978Z",
     "shell.execute_reply.started": "2020-09-14T13:24:32.917287Z"
    }
   },
   "outputs": [
    {
     "name": "stdout",
     "output_type": "stream",
     "text": [
      "The autoreload extension is already loaded. To reload it, use:\n",
      "  %reload_ext autoreload\n"
     ]
    }
   ],
   "source": [
    "%load_ext autoreload\n",
    "%autoreload \n",
    "\n",
    "import matplotlib\n",
    "# matplotlib.style.use('fivethirtyeight')\n",
    "import finplot as fplt\n",
    "\n",
    "import numpy as np\n",
    "import pandas as pd\n",
    "import pandas_bokeh\n",
    "\n",
    "import polygon_backfill as pb\n",
    "import market_cluster as mc\n",
    "import s3_datasets as s3d\n",
    "import filters as ft\n",
    "import local_backfill as lb\n",
    "import bars as sb\n",
    "\n",
    "symbol='GLD'\n",
    "date='2020-08-27'\n",
    "result_path='/Users/bobcolner/QuantClarity/pandas-polygon/data'\n",
    "\n",
    "# .plot_bokeh(kind='hist', bins=50, sizing_mode=\"scale_height\", disable_scientific_axes=True)\n",
    "# df.style.background_gradient(cmap='coolwarm', axis=None, vmin=-1, vmax=1)  # 'Blues', 'coolwarm', 'RdBu_r' & 'BrBG' are other good diverging colormaps\n",
    "# pd.set_option('precision', 2)"
   ]
  },
  {
   "cell_type": "code",
   "execution_count": 4,
   "metadata": {
    "execution": {
     "iopub.execute_input": "2020-09-14T13:05:12.704935Z",
     "iopub.status.busy": "2020-09-14T13:05:12.704209Z",
     "iopub.status.idle": "2020-09-14T13:05:15.043451Z",
     "shell.execute_reply": "2020-09-14T13:05:15.033776Z",
     "shell.execute_reply.started": "2020-09-14T13:05:12.704874Z"
    }
   },
   "outputs": [
    {
     "name": "stdout",
     "output_type": "stream",
     "text": [
      "1  duplicated trade removed\n"
     ]
    }
   ],
   "source": [
    "ticks_df = lb.load_ticks(symbol, date, result_path)"
   ]
  },
  {
   "cell_type": "code",
   "execution_count": 5,
   "metadata": {
    "execution": {
     "iopub.execute_input": "2020-09-14T13:05:15.056416Z",
     "iopub.status.busy": "2020-09-14T13:05:15.052713Z",
     "iopub.status.idle": "2020-09-14T13:05:17.915343Z",
     "shell.execute_reply": "2020-09-14T13:05:17.911371Z",
     "shell.execute_reply.started": "2020-09-14T13:05:15.056337Z"
    }
   },
   "outputs": [
    {
     "name": "stderr",
     "output_type": "stream",
     "text": [
      "100%|██████████| 9999/9999 [00:02<00:00, 3576.79it/s]\n"
     ]
    }
   ],
   "source": [
    "thresh = {\n",
    "    'renko': 0.2\n",
    "}\n",
    "df = ticks_df[0:10000]\n",
    "bars, _ = sb.build_bars(df, thresh, as_df=True)"
   ]
  },
  {
   "cell_type": "code",
   "execution_count": 10,
   "metadata": {
    "execution": {
     "iopub.execute_input": "2020-09-14T13:24:36.645917Z",
     "iopub.status.busy": "2020-09-14T13:24:36.645506Z",
     "iopub.status.idle": "2020-09-14T13:24:36.655583Z",
     "shell.execute_reply": "2020-09-14T13:24:36.654148Z",
     "shell.execute_reply.started": "2020-09-14T13:24:36.645840Z"
    }
   },
   "outputs": [
    {
     "data": {
      "text/plain": [
       "<module 'finplot' from '/Users/bobcolner/opt/miniconda3/envs/backfill/lib/python3.7/site-packages/finplot/__init__.py'>"
      ]
     },
     "execution_count": 10,
     "metadata": {},
     "output_type": "execute_result"
    }
   ],
   "source": [
    "fplt"
   ]
  },
  {
   "cell_type": "code",
   "execution_count": 13,
   "metadata": {
    "execution": {
     "iopub.execute_input": "2020-09-14T13:27:29.570648Z",
     "iopub.status.busy": "2020-09-14T13:27:29.568740Z",
     "iopub.status.idle": "2020-09-14T13:28:44.666658Z",
     "shell.execute_reply": "2020-09-14T13:28:44.665449Z",
     "shell.execute_reply.started": "2020-09-14T13:27:29.570583Z"
    }
   },
   "outputs": [],
   "source": [
    "import finplot as fplt\n",
    "import numpy as np\n",
    "import pandas as pd\n",
    "import requests\n",
    "\n",
    "# pull some data\n",
    "symbol = 'USDT-BTC'\n",
    "url = 'https://bittrex.com/Api/v2.0/pub/market/GetTicks?marketName=%s&tickInterval=fiveMin' % symbol\n",
    "data = requests.get(url).json()\n",
    "\n",
    "# format it in pandas\n",
    "df = pd.DataFrame(data['result'])\n",
    "df = df.rename(columns={'T':'time', 'O':'open', 'C':'close', 'H':'high', 'L':'low', 'V':'volume'})\n",
    "df = df.astype({'time':'datetime64[ns]'})"
   ]
  },
  {
   "cell_type": "code",
   "execution_count": 14,
   "metadata": {
    "execution": {
     "iopub.execute_input": "2020-09-14T13:28:58.670409Z",
     "iopub.status.busy": "2020-09-14T13:28:58.669903Z",
     "iopub.status.idle": "2020-09-14T13:28:58.702159Z",
     "shell.execute_reply": "2020-09-14T13:28:58.700975Z",
     "shell.execute_reply.started": "2020-09-14T13:28:58.670359Z"
    }
   },
   "outputs": [
    {
     "data": {
      "text/html": [
       "<div>\n",
       "<style scoped>\n",
       "    .dataframe tbody tr th:only-of-type {\n",
       "        vertical-align: middle;\n",
       "    }\n",
       "\n",
       "    .dataframe tbody tr th {\n",
       "        vertical-align: top;\n",
       "    }\n",
       "\n",
       "    .dataframe thead th {\n",
       "        text-align: right;\n",
       "    }\n",
       "</style>\n",
       "<table border=\"1\" class=\"dataframe\">\n",
       "  <thead>\n",
       "    <tr style=\"text-align: right;\">\n",
       "      <th></th>\n",
       "      <th>open</th>\n",
       "      <th>high</th>\n",
       "      <th>low</th>\n",
       "      <th>close</th>\n",
       "      <th>volume</th>\n",
       "      <th>time</th>\n",
       "      <th>BV</th>\n",
       "      <th>marker</th>\n",
       "    </tr>\n",
       "  </thead>\n",
       "  <tbody>\n",
       "    <tr>\n",
       "      <th>0</th>\n",
       "      <td>11611.115600</td>\n",
       "      <td>11615.473300</td>\n",
       "      <td>11586.537000</td>\n",
       "      <td>11586.5370</td>\n",
       "      <td>1.811326</td>\n",
       "      <td>2020-08-05 13:30:00</td>\n",
       "      <td>21002.249466</td>\n",
       "      <td>NaN</td>\n",
       "    </tr>\n",
       "    <tr>\n",
       "      <th>1</th>\n",
       "      <td>11585.169100</td>\n",
       "      <td>11585.169100</td>\n",
       "      <td>11564.805003</td>\n",
       "      <td>11577.0890</td>\n",
       "      <td>0.579735</td>\n",
       "      <td>2020-08-05 13:35:00</td>\n",
       "      <td>6709.436485</td>\n",
       "      <td>NaN</td>\n",
       "    </tr>\n",
       "    <tr>\n",
       "      <th>2</th>\n",
       "      <td>11578.215915</td>\n",
       "      <td>11586.076800</td>\n",
       "      <td>11573.984000</td>\n",
       "      <td>11585.2770</td>\n",
       "      <td>1.010271</td>\n",
       "      <td>2020-08-05 13:40:00</td>\n",
       "      <td>11697.291772</td>\n",
       "      <td>NaN</td>\n",
       "    </tr>\n",
       "    <tr>\n",
       "      <th>3</th>\n",
       "      <td>11575.339400</td>\n",
       "      <td>11584.962000</td>\n",
       "      <td>11562.052000</td>\n",
       "      <td>11578.1940</td>\n",
       "      <td>1.107367</td>\n",
       "      <td>2020-08-05 13:45:00</td>\n",
       "      <td>12811.411889</td>\n",
       "      <td>NaN</td>\n",
       "    </tr>\n",
       "    <tr>\n",
       "      <th>4</th>\n",
       "      <td>11584.861998</td>\n",
       "      <td>11595.190000</td>\n",
       "      <td>11581.527999</td>\n",
       "      <td>11592.8643</td>\n",
       "      <td>1.567517</td>\n",
       "      <td>2020-08-05 13:50:00</td>\n",
       "      <td>18167.337507</td>\n",
       "      <td>NaN</td>\n",
       "    </tr>\n",
       "    <tr>\n",
       "      <th>...</th>\n",
       "      <td>...</td>\n",
       "      <td>...</td>\n",
       "      <td>...</td>\n",
       "      <td>...</td>\n",
       "      <td>...</td>\n",
       "      <td>...</td>\n",
       "      <td>...</td>\n",
       "      <td>...</td>\n",
       "    </tr>\n",
       "    <tr>\n",
       "      <th>11515</th>\n",
       "      <td>10505.343007</td>\n",
       "      <td>10545.637900</td>\n",
       "      <td>10504.368000</td>\n",
       "      <td>10545.6379</td>\n",
       "      <td>1.108965</td>\n",
       "      <td>2020-09-14 13:05:00</td>\n",
       "      <td>11665.651816</td>\n",
       "      <td>NaN</td>\n",
       "    </tr>\n",
       "    <tr>\n",
       "      <th>11516</th>\n",
       "      <td>10545.637900</td>\n",
       "      <td>10590.000000</td>\n",
       "      <td>10540.262204</td>\n",
       "      <td>10567.9281</td>\n",
       "      <td>8.468850</td>\n",
       "      <td>2020-09-14 13:10:00</td>\n",
       "      <td>89539.637930</td>\n",
       "      <td>NaN</td>\n",
       "    </tr>\n",
       "    <tr>\n",
       "      <th>11517</th>\n",
       "      <td>10575.053600</td>\n",
       "      <td>10589.999998</td>\n",
       "      <td>10546.969600</td>\n",
       "      <td>10546.9696</td>\n",
       "      <td>1.839874</td>\n",
       "      <td>2020-09-14 13:15:00</td>\n",
       "      <td>19447.711097</td>\n",
       "      <td>NaN</td>\n",
       "    </tr>\n",
       "    <tr>\n",
       "      <th>11518</th>\n",
       "      <td>10546.969600</td>\n",
       "      <td>10564.142400</td>\n",
       "      <td>10546.869600</td>\n",
       "      <td>10564.1424</td>\n",
       "      <td>0.656360</td>\n",
       "      <td>2020-09-14 13:20:00</td>\n",
       "      <td>6928.619706</td>\n",
       "      <td>NaN</td>\n",
       "    </tr>\n",
       "    <tr>\n",
       "      <th>11519</th>\n",
       "      <td>10567.643700</td>\n",
       "      <td>10567.643700</td>\n",
       "      <td>10560.348900</td>\n",
       "      <td>10562.3489</td>\n",
       "      <td>0.281226</td>\n",
       "      <td>2020-09-14 13:25:00</td>\n",
       "      <td>2970.412750</td>\n",
       "      <td>NaN</td>\n",
       "    </tr>\n",
       "  </tbody>\n",
       "</table>\n",
       "<p>11520 rows × 8 columns</p>\n",
       "</div>"
      ],
      "text/plain": [
       "               open          high           low       close    volume  \\\n",
       "0      11611.115600  11615.473300  11586.537000  11586.5370  1.811326   \n",
       "1      11585.169100  11585.169100  11564.805003  11577.0890  0.579735   \n",
       "2      11578.215915  11586.076800  11573.984000  11585.2770  1.010271   \n",
       "3      11575.339400  11584.962000  11562.052000  11578.1940  1.107367   \n",
       "4      11584.861998  11595.190000  11581.527999  11592.8643  1.567517   \n",
       "...             ...           ...           ...         ...       ...   \n",
       "11515  10505.343007  10545.637900  10504.368000  10545.6379  1.108965   \n",
       "11516  10545.637900  10590.000000  10540.262204  10567.9281  8.468850   \n",
       "11517  10575.053600  10589.999998  10546.969600  10546.9696  1.839874   \n",
       "11518  10546.969600  10564.142400  10546.869600  10564.1424  0.656360   \n",
       "11519  10567.643700  10567.643700  10560.348900  10562.3489  0.281226   \n",
       "\n",
       "                     time            BV  marker  \n",
       "0     2020-08-05 13:30:00  21002.249466     NaN  \n",
       "1     2020-08-05 13:35:00   6709.436485     NaN  \n",
       "2     2020-08-05 13:40:00  11697.291772     NaN  \n",
       "3     2020-08-05 13:45:00  12811.411889     NaN  \n",
       "4     2020-08-05 13:50:00  18167.337507     NaN  \n",
       "...                   ...           ...     ...  \n",
       "11515 2020-09-14 13:05:00  11665.651816     NaN  \n",
       "11516 2020-09-14 13:10:00  89539.637930     NaN  \n",
       "11517 2020-09-14 13:15:00  19447.711097     NaN  \n",
       "11518 2020-09-14 13:20:00   6928.619706     NaN  \n",
       "11519 2020-09-14 13:25:00   2970.412750     NaN  \n",
       "\n",
       "[11520 rows x 8 columns]"
      ]
     },
     "execution_count": 14,
     "metadata": {},
     "output_type": "execute_result"
    }
   ],
   "source": [
    "df"
   ]
  },
  {
   "cell_type": "code",
   "execution_count": 13,
   "metadata": {
    "execution": {
     "iopub.execute_input": "2020-09-14T13:27:29.570648Z",
     "iopub.status.busy": "2020-09-14T13:27:29.568740Z",
     "iopub.status.idle": "2020-09-14T13:28:44.666658Z",
     "shell.execute_reply": "2020-09-14T13:28:44.665449Z",
     "shell.execute_reply.started": "2020-09-14T13:27:29.570583Z"
    }
   },
   "outputs": [],
   "source": [
    "# create two plots\n",
    "ax,ax2 = fplt.create_plot(symbol, rows=2)\n",
    "\n",
    "# plot candle sticks\n",
    "candles = df[['time','open','close','high','low']]\n",
    "fplt.candlestick_ochl(candles, ax=ax)\n",
    "\n",
    "# overlay volume on the top plot\n",
    "volumes = df[['time','open','close','volume']]\n",
    "fplt.volume_ocv(volumes, ax=ax.overlay())\n",
    "\n",
    "# put an MA on the close price\n",
    "fplt.plot(df['time'], df['close'].rolling(25).mean(), ax=ax, legend='ma-25')\n",
    "\n",
    "# place some dumb markers on low wicks\n",
    "lo_wicks = df[['open','close']].T.min() - df['low']\n",
    "df.loc[(lo_wicks>lo_wicks.quantile(0.99)), 'marker'] = df['low']\n",
    "fplt.plot(df['time'], df['marker'], ax=ax, color='#4a5', style='^', legend='dumb mark')\n",
    "\n",
    "# draw some random crap on our second plot\n",
    "fplt.plot(df['time'], np.random.normal(size=len(df)), ax=ax2, color='#927', legend='stuff')\n",
    "fplt.set_y_range(-1.4, +3.7, ax=ax2) # hard-code y-axis range limitation\n",
    "\n",
    "# restore view (X-position and zoom) if we ever run this example again\n",
    "fplt.autoviewrestore()\n",
    "\n",
    "# we're done\n",
    "fplt.show()"
   ]
  },
  {
   "cell_type": "code",
   "execution_count": 12,
   "metadata": {
    "execution": {
     "iopub.execute_input": "2020-09-14T13:26:55.331456Z",
     "iopub.status.busy": "2020-09-14T13:26:55.331088Z",
     "iopub.status.idle": "2020-09-14T13:26:55.486689Z",
     "shell.execute_reply": "2020-09-14T13:26:55.473488Z",
     "shell.execute_reply.started": "2020-09-14T13:26:55.331413Z"
    }
   },
   "outputs": [
    {
     "ename": "KeyError",
     "evalue": "\"None of [Index(['open_at', 'price_open', 'price_close', 'price_high', 'price_low'], dtype='object')] are in the [columns]\"",
     "output_type": "error",
     "traceback": [
      "\u001b[0;31m---------------------------------------------------------------------------\u001b[0m",
      "\u001b[0;31mKeyError\u001b[0m                                  Traceback (most recent call last)",
      "\u001b[0;32m<ipython-input-12-ce3fb5a1c062>\u001b[0m in \u001b[0;36m<module>\u001b[0;34m\u001b[0m\n\u001b[1;32m      3\u001b[0m \u001b[0;34m\u001b[0m\u001b[0m\n\u001b[1;32m      4\u001b[0m \u001b[0;31m# plot candle sticks\u001b[0m\u001b[0;34m\u001b[0m\u001b[0;34m\u001b[0m\u001b[0;34m\u001b[0m\u001b[0m\n\u001b[0;32m----> 5\u001b[0;31m \u001b[0mcandles\u001b[0m \u001b[0;34m=\u001b[0m \u001b[0mdf\u001b[0m\u001b[0;34m[\u001b[0m\u001b[0;34m[\u001b[0m\u001b[0;34m'open_at'\u001b[0m\u001b[0;34m,\u001b[0m \u001b[0;34m'price_open'\u001b[0m\u001b[0;34m,\u001b[0m \u001b[0;34m'price_close'\u001b[0m\u001b[0;34m,\u001b[0m \u001b[0;34m'price_high'\u001b[0m\u001b[0;34m,\u001b[0m \u001b[0;34m'price_low'\u001b[0m\u001b[0;34m]\u001b[0m\u001b[0;34m]\u001b[0m\u001b[0;34m\u001b[0m\u001b[0;34m\u001b[0m\u001b[0m\n\u001b[0m\u001b[1;32m      6\u001b[0m \u001b[0mfplt\u001b[0m\u001b[0;34m.\u001b[0m\u001b[0mcandlestick_ochl\u001b[0m\u001b[0;34m(\u001b[0m\u001b[0mcandles\u001b[0m\u001b[0;34m,\u001b[0m \u001b[0max\u001b[0m\u001b[0;34m=\u001b[0m\u001b[0max\u001b[0m\u001b[0;34m)\u001b[0m\u001b[0;34m\u001b[0m\u001b[0;34m\u001b[0m\u001b[0m\n\u001b[1;32m      7\u001b[0m \u001b[0;34m\u001b[0m\u001b[0m\n",
      "\u001b[0;32m~/opt/miniconda3/envs/backfill/lib/python3.7/site-packages/pandas/core/frame.py\u001b[0m in \u001b[0;36m__getitem__\u001b[0;34m(self, key)\u001b[0m\n\u001b[1;32m   2906\u001b[0m             \u001b[0;32mif\u001b[0m \u001b[0mis_iterator\u001b[0m\u001b[0;34m(\u001b[0m\u001b[0mkey\u001b[0m\u001b[0;34m)\u001b[0m\u001b[0;34m:\u001b[0m\u001b[0;34m\u001b[0m\u001b[0;34m\u001b[0m\u001b[0m\n\u001b[1;32m   2907\u001b[0m                 \u001b[0mkey\u001b[0m \u001b[0;34m=\u001b[0m \u001b[0mlist\u001b[0m\u001b[0;34m(\u001b[0m\u001b[0mkey\u001b[0m\u001b[0;34m)\u001b[0m\u001b[0;34m\u001b[0m\u001b[0;34m\u001b[0m\u001b[0m\n\u001b[0;32m-> 2908\u001b[0;31m             \u001b[0mindexer\u001b[0m \u001b[0;34m=\u001b[0m \u001b[0mself\u001b[0m\u001b[0;34m.\u001b[0m\u001b[0mloc\u001b[0m\u001b[0;34m.\u001b[0m\u001b[0m_get_listlike_indexer\u001b[0m\u001b[0;34m(\u001b[0m\u001b[0mkey\u001b[0m\u001b[0;34m,\u001b[0m \u001b[0maxis\u001b[0m\u001b[0;34m=\u001b[0m\u001b[0;36m1\u001b[0m\u001b[0;34m,\u001b[0m \u001b[0mraise_missing\u001b[0m\u001b[0;34m=\u001b[0m\u001b[0;32mTrue\u001b[0m\u001b[0;34m)\u001b[0m\u001b[0;34m[\u001b[0m\u001b[0;36m1\u001b[0m\u001b[0;34m]\u001b[0m\u001b[0;34m\u001b[0m\u001b[0;34m\u001b[0m\u001b[0m\n\u001b[0m\u001b[1;32m   2909\u001b[0m \u001b[0;34m\u001b[0m\u001b[0m\n\u001b[1;32m   2910\u001b[0m         \u001b[0;31m# take() does not accept boolean indexers\u001b[0m\u001b[0;34m\u001b[0m\u001b[0;34m\u001b[0m\u001b[0;34m\u001b[0m\u001b[0m\n",
      "\u001b[0;32m~/opt/miniconda3/envs/backfill/lib/python3.7/site-packages/pandas/core/indexing.py\u001b[0m in \u001b[0;36m_get_listlike_indexer\u001b[0;34m(self, key, axis, raise_missing)\u001b[0m\n\u001b[1;32m   1252\u001b[0m             \u001b[0mkeyarr\u001b[0m\u001b[0;34m,\u001b[0m \u001b[0mindexer\u001b[0m\u001b[0;34m,\u001b[0m \u001b[0mnew_indexer\u001b[0m \u001b[0;34m=\u001b[0m \u001b[0max\u001b[0m\u001b[0;34m.\u001b[0m\u001b[0m_reindex_non_unique\u001b[0m\u001b[0;34m(\u001b[0m\u001b[0mkeyarr\u001b[0m\u001b[0;34m)\u001b[0m\u001b[0;34m\u001b[0m\u001b[0;34m\u001b[0m\u001b[0m\n\u001b[1;32m   1253\u001b[0m \u001b[0;34m\u001b[0m\u001b[0m\n\u001b[0;32m-> 1254\u001b[0;31m         \u001b[0mself\u001b[0m\u001b[0;34m.\u001b[0m\u001b[0m_validate_read_indexer\u001b[0m\u001b[0;34m(\u001b[0m\u001b[0mkeyarr\u001b[0m\u001b[0;34m,\u001b[0m \u001b[0mindexer\u001b[0m\u001b[0;34m,\u001b[0m \u001b[0maxis\u001b[0m\u001b[0;34m,\u001b[0m \u001b[0mraise_missing\u001b[0m\u001b[0;34m=\u001b[0m\u001b[0mraise_missing\u001b[0m\u001b[0;34m)\u001b[0m\u001b[0;34m\u001b[0m\u001b[0;34m\u001b[0m\u001b[0m\n\u001b[0m\u001b[1;32m   1255\u001b[0m         \u001b[0;32mreturn\u001b[0m \u001b[0mkeyarr\u001b[0m\u001b[0;34m,\u001b[0m \u001b[0mindexer\u001b[0m\u001b[0;34m\u001b[0m\u001b[0;34m\u001b[0m\u001b[0m\n\u001b[1;32m   1256\u001b[0m \u001b[0;34m\u001b[0m\u001b[0m\n",
      "\u001b[0;32m~/opt/miniconda3/envs/backfill/lib/python3.7/site-packages/pandas/core/indexing.py\u001b[0m in \u001b[0;36m_validate_read_indexer\u001b[0;34m(self, key, indexer, axis, raise_missing)\u001b[0m\n\u001b[1;32m   1296\u001b[0m             \u001b[0;32mif\u001b[0m \u001b[0mmissing\u001b[0m \u001b[0;34m==\u001b[0m \u001b[0mlen\u001b[0m\u001b[0;34m(\u001b[0m\u001b[0mindexer\u001b[0m\u001b[0;34m)\u001b[0m\u001b[0;34m:\u001b[0m\u001b[0;34m\u001b[0m\u001b[0;34m\u001b[0m\u001b[0m\n\u001b[1;32m   1297\u001b[0m                 \u001b[0maxis_name\u001b[0m \u001b[0;34m=\u001b[0m \u001b[0mself\u001b[0m\u001b[0;34m.\u001b[0m\u001b[0mobj\u001b[0m\u001b[0;34m.\u001b[0m\u001b[0m_get_axis_name\u001b[0m\u001b[0;34m(\u001b[0m\u001b[0maxis\u001b[0m\u001b[0;34m)\u001b[0m\u001b[0;34m\u001b[0m\u001b[0;34m\u001b[0m\u001b[0m\n\u001b[0;32m-> 1298\u001b[0;31m                 \u001b[0;32mraise\u001b[0m \u001b[0mKeyError\u001b[0m\u001b[0;34m(\u001b[0m\u001b[0;34mf\"None of [{key}] are in the [{axis_name}]\"\u001b[0m\u001b[0;34m)\u001b[0m\u001b[0;34m\u001b[0m\u001b[0;34m\u001b[0m\u001b[0m\n\u001b[0m\u001b[1;32m   1299\u001b[0m \u001b[0;34m\u001b[0m\u001b[0m\n\u001b[1;32m   1300\u001b[0m             \u001b[0;31m# We (temporarily) allow for some missing keys with .loc, except in\u001b[0m\u001b[0;34m\u001b[0m\u001b[0;34m\u001b[0m\u001b[0;34m\u001b[0m\u001b[0m\n",
      "\u001b[0;31mKeyError\u001b[0m: \"None of [Index(['open_at', 'price_open', 'price_close', 'price_high', 'price_low'], dtype='object')] are in the [columns]\""
     ]
    }
   ],
   "source": [
    "# create two plots\n",
    "ax = fplt.create_plot('GLD bars')\n",
    "\n",
    "# plot candle sticks\n",
    "candles = df[['open_at', 'price_open', 'price_close', 'price_high', 'price_low']]\n",
    "fplt.candlestick_ochl(candles, ax=ax)\n",
    "\n",
    "# overlay volume on the top plot\n",
    "volumes = df[['open_at', 'price_open', 'price_close', 'volume_sum']]\n",
    "fplt.volume_ocv(volumes, ax=ax.overlay())\n",
    "\n"
   ]
  },
  {
   "cell_type": "code",
   "execution_count": null,
   "metadata": {},
   "outputs": [],
   "source": [
    "fplt.candlestick_ochl(bars[['price_open', 'price_close', 'price_high', 'price_low']])\n",
    "fplt.show()"
   ]
  },
  {
   "cell_type": "code",
   "execution_count": null,
   "metadata": {},
   "outputs": [],
   "source": [
    "bars.reset_index().price_vwap.plot(figsize=[20,7])"
   ]
  },
  {
   "cell_type": "code",
   "execution_count": null,
   "metadata": {},
   "outputs": [],
   "source": [
    "# add price filters\n",
    "\n",
    "df = ft.add_filters(df, 'price')"
   ]
  },
  {
   "cell_type": "code",
   "execution_count": null,
   "metadata": {},
   "outputs": [],
   "source": [
    "df[['price', 'filter_jma710']][20000:30000].plot(figsize=[20,8])\n",
    "# df[['price', 'filter_jma71000']][20000:30000].plot_bokeh(kind='line', sizing_mode=\"scale_height\", disable_scientific_axes=True)"
   ]
  },
  {
   "cell_type": "code",
   "execution_count": null,
   "metadata": {},
   "outputs": [],
   "source": [
    "df2 = df.rename(columns={'sip_dt': 'date_time', 'size': 'volume'})\n",
    "\n",
    "df2 = df2[['date_time', 'price', 'volume']]"
   ]
  },
  {
   "cell_type": "code",
   "execution_count": null,
   "metadata": {},
   "outputs": [],
   "source": [
    "# get data from s3\n",
    "clean_df, bad_df = s3d.get_s3_df(symbol, date)\n",
    "\n",
    "# list_s3_symbol('SPY')\n",
    "df = s3d.get_s3_df('GLD', '2020-08-27', columns=['exchange_epoch', 'price', 'size', 'condition'])\n",
    "# df = s3d.get_s3_df(symbol='SPY', date='2020-08-28', columns=['exchange_epoch', 'price', 'size', 'condition'])\n",
    "\n",
    "# df = pd.read_feather('data.feather', columns=['exchange_epoch', 'price', 'size', 'condition'])\n",
    "# df['date_time'] = pd.to_datetime(df.exchange_epoch)"
   ]
  },
  {
   "cell_type": "code",
   "execution_count": null,
   "metadata": {},
   "outputs": [],
   "source": [
    "# get local market daily data\n",
    "mdf = pd.read_parquet('data/mdf.parquet')\n",
    "\n",
    "sdf = mdf[mdf.symbol=='SPY']"
   ]
  },
  {
   "cell_type": "code",
   "execution_count": null,
   "metadata": {},
   "outputs": [],
   "source": [
    "### market clustering\n",
    "\n",
    "# %time df = read_market_daily(result_path)\n",
    "%time mdf = pd.read_parquet('data/mdf.parquet')\n",
    "\n",
    "%time npdf, sharpe_ratios = mc.normalize_market_df(mdf)\n",
    "\n",
    "# %time npdf_resid = colwise_linreg(npdf)\n",
    "%time npdf_resid = pd.read_parquet('data/npdf_resid.parquet')\n",
    "\n",
    "# %time par_cor_mat = npdf_resid.corr()\n",
    "%time resid_par_cor_mat = pd.read_parquet('data/partial_cor_mat.parquet')\n",
    "\n",
    "%time details_df = pd.read_parquet('data/details_df.parquet')\n",
    "\n",
    "# cluster_lables = cluster_sim_matrix(similarity=resid_par_cor_mat.abs())\n",
    "%time cluster_lables = pd.read_parquet('data/cluster_lables.parquet')\n",
    "\n",
    "# symbol_meta = join_symbol_data(details_df, cluster_lables, sharpe_ratios, mdf)\n",
    "%time symbol_meta = pd.read_parquet('data/symbol_meta.parquet')\n",
    "\n",
    "# cluster_coheasion = mc.get_cluster_coheasion(sim_df=resid_par_cor_mat.abs(), symbol_meta=symbol_meta, cluster_col='cluster_n200')"
   ]
  },
  {
   "cell_type": "code",
   "execution_count": null,
   "metadata": {},
   "outputs": [],
   "source": [
    "symbol_meta['liquidy_rank'] = symbol_meta.groupby('cluster_n200')['daily_avg_dollar_volume'].rank(method='first')\n",
    "\n",
    "symbol_meta = symbol_meta.sort_values(['cluster_n200', 'liquidy_rank']).reset_index()"
   ]
  },
  {
   "cell_type": "code",
   "execution_count": null,
   "metadata": {},
   "outputs": [],
   "source": [
    "by_cluster = symbol_meta.groupby('cluster_n200')\n",
    "result = []\n",
    "for cluster, frame in by_cluster:\n",
    "    counts = dict(frame['sector'].value_counts())\n",
    "    counts.pop('', None)  # drop symbols w/o sector/industry info\n",
    "    result.append(counts)\n",
    "\n",
    "cluster_sec = pd.DataFrame(result)    \n",
    "cluster_sec = cluster_sec.drop(columns=['Finance'])\n",
    "cluster_sec_pct = cluster_sec.apply(lambda x: 100 * x / float(x.sum()), axis=1)"
   ]
  },
  {
   "cell_type": "code",
   "execution_count": null,
   "metadata": {},
   "outputs": [],
   "source": [
    "cluster_sec_pct.style.background_gradient(cmap='coolwarm', axis=0)"
   ]
  },
  {
   "cell_type": "code",
   "execution_count": null,
   "metadata": {},
   "outputs": [],
   "source": [
    "# n += 1\n",
    "n = 61\n",
    "print(n)\n",
    "symbol_meta[symbol_meta.cluster_n200==n].sector.value_counts()"
   ]
  },
  {
   "cell_type": "code",
   "execution_count": null,
   "metadata": {},
   "outputs": [],
   "source": [
    "sym_clust = symbol_meta[symbol_meta.cluster_n200==n]\n",
    "sym_clust"
   ]
  }
 ],
 "metadata": {
  "kernelspec": {
   "display_name": "Python 3",
   "language": "python",
   "name": "python3"
  },
  "language_info": {
   "codemirror_mode": {
    "name": "ipython",
    "version": 3
   },
   "file_extension": ".py",
   "mimetype": "text/x-python",
   "name": "python",
   "nbconvert_exporter": "python",
   "pygments_lexer": "ipython3",
   "version": "3.7.8"
  }
 },
 "nbformat": 4,
 "nbformat_minor": 4
}
