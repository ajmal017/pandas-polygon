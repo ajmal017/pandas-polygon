{
 "cells": [
  {
   "cell_type": "code",
   "execution_count": null,
   "metadata": {
    "ExecuteTime": {
     "end_time": "2020-02-04T09:05:21.476894Z",
     "start_time": "2020-02-04T09:05:21.103511Z"
    }
   },
   "outputs": [],
   "source": [
    "# docker run -p 8888:8888 jupyter/datascience-notebook:latest\n",
    "import os\n",
    "import datetime\n",
    "import numpy as np\n",
    "import pandas as pd\n",
    "\n",
    "import qgrid\n",
    "qgrid.enable()\n",
    "# qgrid.disable()\n",
    "\n",
    "import api\n",
    "import bars\n",
    "\n",
    "%load_ext autoreload\n",
    "%autoreload 2\n",
    "\n",
    "# import ipdb; ipdb.set_trace(context=10)\n",
    "# import pudb; pu.db"
   ]
  },
  {
   "cell_type": "code",
   "execution_count": null,
   "metadata": {
    "ExecuteTime": {
     "end_time": "2020-02-04T09:05:28.482612Z",
     "start_time": "2020-02-04T09:05:28.235433Z"
    }
   },
   "outputs": [],
   "source": [
    "symbol='GLD'\n",
    "fmat = 'parquet'\n",
    "date = '2019-05-09'\n",
    "\n",
    "ts = bars.read_matching_files(f\"../data/ticks/{fmat}/{symbol}/{symbol}_{date}.{fmat}\", format=fmat)\n"
   ]
  },
  {
   "cell_type": "code",
   "execution_count": null,
   "metadata": {
    "ExecuteTime": {
     "end_time": "2020-02-04T09:06:08.510667Z",
     "start_time": "2020-02-04T09:06:06.343485Z"
    },
    "scrolled": true
   },
   "outputs": [],
   "source": [
    "state = bars.reset_state()\n",
    "output_bars = []\n",
    "nrow = -1\n",
    "\n",
    "while nrow < len(ts):\n",
    "    \n",
    "    nrow += 1\n",
    "    \n",
    "    input_tick = {}\n",
    "    input_tick['epoch'] = ts['epoch'][nrow]\n",
    "    input_tick['price'] = ts['price'][nrow]\n",
    "    input_tick['volume'] = ts['volume'][nrow]\n",
    "\n",
    "    output_bars, state = bars.update_bar(input_tick, output_bars, state)\n",
    "\n"
   ]
  },
  {
   "cell_type": "code",
   "execution_count": null,
   "metadata": {},
   "outputs": [],
   "source": []
  }
 ],
 "metadata": {
  "kernelspec": {
   "display_name": "Python 3",
   "language": "python",
   "name": "python3"
  },
  "language_info": {
   "codemirror_mode": {
    "name": "ipython",
    "version": 3
   },
   "file_extension": ".py",
   "mimetype": "text/x-python",
   "name": "python",
   "nbconvert_exporter": "python",
   "pygments_lexer": "ipython3",
   "version": "3.7.6"
  },
  "varInspector": {
   "cols": {
    "lenName": 16,
    "lenType": 16,
    "lenVar": 40
   },
   "kernels_config": {
    "python": {
     "delete_cmd_postfix": "",
     "delete_cmd_prefix": "del ",
     "library": "var_list.py",
     "varRefreshCmd": "print(var_dic_list())"
    },
    "r": {
     "delete_cmd_postfix": ") ",
     "delete_cmd_prefix": "rm(",
     "library": "var_list.r",
     "varRefreshCmd": "cat(var_dic_list()) "
    }
   },
   "types_to_exclude": [
    "module",
    "function",
    "builtin_function_or_method",
    "instance",
    "_Feature"
   ],
   "window_display": false
  }
 },
 "nbformat": 4,
 "nbformat_minor": 2
}
