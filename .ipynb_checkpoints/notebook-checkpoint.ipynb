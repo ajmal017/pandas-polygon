{
 "cells": [
  {
   "cell_type": "code",
   "execution_count": 1,
   "metadata": {},
   "outputs": [],
   "source": [
    "%load_ext autoreload\n",
    "%autoreload 2\n",
    "import os\n",
    "import pandas as pd\n",
    "import numpy as np\n",
    "from polygon_streaming_api import run_stream_ticks\n",
    "from polygon_rest_api import get_grouped_daily, get_stock_ticks\n",
    "from polygon_backfill import *\n",
    "import bars\n",
    "\n",
    "import pandas_bokeh\n",
    "# pandas_bokeh.output_notebook()\n",
    "pandas_bokeh.output_file('bokeh_output.html')\n",
    "# pd.set_option('plotting.backend', 'pandas_bokeh')\n",
    "\n",
    "# from IPython.core.debugger import set_trace; set_trace()"
   ]
  },
  {
   "cell_type": "code",
   "execution_count": 2,
   "metadata": {},
   "outputs": [],
   "source": [
    "symbol='DUST'\n",
    "start_date='2020-06-01'\n",
    "end_date='2020-06-20'\n",
    "result_path=\"/Users/bobcolner/QuantClarity/data\"\n",
    "date_partition='hive'\n",
    "tick_type='trades'\n",
    "formats=['feather', 'parquet']\n",
    "skip=True"
   ]
  },
  {
   "cell_type": "code",
   "execution_count": 268,
   "metadata": {},
   "outputs": [],
   "source": [
    "def read_market_daily(result_path:str) -> pd.DataFrame:    \n",
    "    df = read_matching_files(glob_string=result_path+'/market_daily/*.feather', reader=pd.read_feather)\n",
    "    df = df.set_index(pd.to_datetime(df.date), drop=True)\n",
    "    df = df.drop(columns=['date'])\n",
    "    df = find_compleat_symbols(df, compleat_only=True)\n",
    "    df = df.sort_index()\n",
    "    return df"
   ]
  },
  {
   "cell_type": "code",
   "execution_count": 309,
   "metadata": {},
   "outputs": [],
   "source": [
    "def plot_daily_symbols(df:pd.DataFrame, symbols=['SPY', 'QQQ'], metric='vwap') -> pd.DataFrame:\n",
    "    fdf = df[['symbol', metric]][df.symbol.isin(symbols)]\n",
    "    pdf = fdf.pivot(columns='symbol', values=metric)\n",
    "    pdf.plot_bokeh.line(sizing_mode=\"scale_height\", rangetool=True, title=str(symbols), ylabel=metric+' [$]', number_format=\"1.00 $\")\n",
    "    return pdf"
   ]
  },
  {
   "cell_type": "code",
   "execution_count": null,
   "metadata": {},
   "outputs": [],
   "source": [
    "df = read_market_daily(result_path)"
   ]
  },
  {
   "cell_type": "code",
   "execution_count": 310,
   "metadata": {},
   "outputs": [
    {
     "data": {
      "text/html": [
       "<div>\n",
       "<style scoped>\n",
       "    .dataframe tbody tr th:only-of-type {\n",
       "        vertical-align: middle;\n",
       "    }\n",
       "\n",
       "    .dataframe tbody tr th {\n",
       "        vertical-align: top;\n",
       "    }\n",
       "\n",
       "    .dataframe thead th {\n",
       "        text-align: right;\n",
       "    }\n",
       "</style>\n",
       "<table border=\"1\" class=\"dataframe\">\n",
       "  <thead>\n",
       "    <tr style=\"text-align: right;\">\n",
       "      <th>symbol</th>\n",
       "      <th>QQQ</th>\n",
       "      <th>SPY</th>\n",
       "    </tr>\n",
       "    <tr>\n",
       "      <th>date</th>\n",
       "      <th></th>\n",
       "      <th></th>\n",
       "    </tr>\n",
       "  </thead>\n",
       "  <tbody>\n",
       "    <tr>\n",
       "      <th>2017-01-03</th>\n",
       "      <td>119.281998</td>\n",
       "      <td>224.644501</td>\n",
       "    </tr>\n",
       "    <tr>\n",
       "      <th>2017-01-04</th>\n",
       "      <td>120.103302</td>\n",
       "      <td>226.194702</td>\n",
       "    </tr>\n",
       "    <tr>\n",
       "      <th>2017-01-05</th>\n",
       "      <td>120.610100</td>\n",
       "      <td>226.251801</td>\n",
       "    </tr>\n",
       "    <tr>\n",
       "      <th>2017-01-06</th>\n",
       "      <td>121.680901</td>\n",
       "      <td>227.112000</td>\n",
       "    </tr>\n",
       "    <tr>\n",
       "      <th>2017-01-09</th>\n",
       "      <td>122.229202</td>\n",
       "      <td>226.732803</td>\n",
       "    </tr>\n",
       "    <tr>\n",
       "      <th>...</th>\n",
       "      <td>...</td>\n",
       "      <td>...</td>\n",
       "    </tr>\n",
       "    <tr>\n",
       "      <th>2020-06-15</th>\n",
       "      <td>236.001907</td>\n",
       "      <td>303.836212</td>\n",
       "    </tr>\n",
       "    <tr>\n",
       "      <th>2020-06-16</th>\n",
       "      <td>242.532593</td>\n",
       "      <td>312.593811</td>\n",
       "    </tr>\n",
       "    <tr>\n",
       "      <th>2020-06-17</th>\n",
       "      <td>244.082504</td>\n",
       "      <td>312.638214</td>\n",
       "    </tr>\n",
       "    <tr>\n",
       "      <th>2020-06-18</th>\n",
       "      <td>243.727295</td>\n",
       "      <td>311.204895</td>\n",
       "    </tr>\n",
       "    <tr>\n",
       "      <th>2020-06-19</th>\n",
       "      <td>244.960495</td>\n",
       "      <td>310.375214</td>\n",
       "    </tr>\n",
       "  </tbody>\n",
       "</table>\n",
       "<p>871 rows × 2 columns</p>\n",
       "</div>"
      ],
      "text/plain": [
       "symbol             QQQ         SPY\n",
       "date                              \n",
       "2017-01-03  119.281998  224.644501\n",
       "2017-01-04  120.103302  226.194702\n",
       "2017-01-05  120.610100  226.251801\n",
       "2017-01-06  121.680901  227.112000\n",
       "2017-01-09  122.229202  226.732803\n",
       "...                ...         ...\n",
       "2020-06-15  236.001907  303.836212\n",
       "2020-06-16  242.532593  312.593811\n",
       "2020-06-17  244.082504  312.638214\n",
       "2020-06-18  243.727295  311.204895\n",
       "2020-06-19  244.960495  310.375214\n",
       "\n",
       "[871 rows x 2 columns]"
      ]
     },
     "execution_count": 310,
     "metadata": {},
     "output_type": "execute_result"
    }
   ],
   "source": [
    "qdf = plot_daily_symbols(df)\n",
    "qdf"
   ]
  },
  {
   "cell_type": "code",
   "execution_count": null,
   "metadata": {},
   "outputs": [],
   "source": [
    "backfill_ticks(symbol, start_date, end_date, result_path, date_partition, tick_type, formats, skip)"
   ]
  },
  {
   "cell_type": "code",
   "execution_count": null,
   "metadata": {},
   "outputs": [],
   "source": [
    "# https://arrow.apache.org/docs/python/dataset.html\n",
    "import pyarrow.dataset as ds\n",
    "\n",
    "dataset = ds.dataset(\n",
    "    source=result_path+'/ticks/trades/feather',\n",
    "    format=\"feather\", \n",
    "    partitioning=\"hive\"\n",
    ")"
   ]
  },
  {
   "cell_type": "code",
   "execution_count": null,
   "metadata": {},
   "outputs": [],
   "source": [
    "# df = dataset.to_table(columns=['tick_epoch', 'price', 'size'], filter=ds.field(\"size\") > 999).to_pandas()\n",
    "df = dataset.to_table(filter=ds.field(\"symbol\") == 'GLD').to_pandas()\n",
    "df.info()\n"
   ]
  },
  {
   "cell_type": "code",
   "execution_count": null,
   "metadata": {},
   "outputs": [],
   "source": [
    "# https://arrow.apache.org/docs/python/dataset.html\n",
    "import pyarrow.dataset as ds\n",
    "\n",
    "dataset = ds.dataset(\n",
    "    source=result_path+'/ticks/trades/feather', \n",
    "    format=\"feather\", \n",
    "    partitioning=\"hive\"\n",
    ")\n",
    "\n",
    "df = dataset.to_table(columns=['tick_epoch', 'price', 'size'], filter=ds.field(\"size\") > 999).to_pandas()\n",
    "\n",
    "sdf = dataset.to_batches()\n",
    "f = next(sdf)\n",
    "f.to_pandas()"
   ]
  },
  {
   "cell_type": "code",
   "execution_count": null,
   "metadata": {},
   "outputs": [],
   "source": [
    "\n",
    "def compound_interest(principle, rate, time): \n",
    "    # Calculates compound interest  \n",
    "    total_return = principle * (pow((1 + rate / 100), time)) \n",
    "    print(\"Total Return:\", total_return)\n",
    "    return round(total_return / principle, 1) * 100\n",
    "\n",
    "\n",
    "principle=100\n",
    "compound_interest(principle, 0.3, 250)\n"
   ]
  },
  {
   "cell_type": "code",
   "execution_count": null,
   "metadata": {},
   "outputs": [],
   "source": [
    "import gcsfs\n",
    "\n",
    "fs = gcsfs.GCSFileSystem()\n",
    "\n",
    "path = 'gcs://emerald-skill-datascience/imported/automl_predictions/prediction-premium_d30_train_sample-2020-03-16T22:15:53.212Z'\n",
    "fs.ls(path)\n",
    "fo = fs.open(path)\n",
    "\n",
    "{'cache_storage': '/User/bobcolner/QuantClarity/data/tmp'}\n",
    "\n",
    "fo = fs.open(\n",
    "    path='filecache::'+path+'/tables_1.csv',\n",
    "    mode='r',\n",
    "    cache_options={'cache_storage':'/User/bobcolner/QuantClarity/data/tmp'}\n",
    ")\n",
    "\n",
    "fo.readline()    "
   ]
  },
  {
   "cell_type": "code",
   "execution_count": null,
   "metadata": {},
   "outputs": [],
   "source": [
    "import fsspec\n",
    "\n",
    "fso = fsspec.open(\n",
    "    urlpath='filecache::'+path+'/tables_1.csv',\n",
    "    filecache={'cache_storage':'/User/bobcolner/QuantClarity/data/tmp'}\n",
    ")\n"
   ]
  }
 ],
 "metadata": {
  "kernelspec": {
   "display_name": "Python 3",
   "language": "python",
   "name": "python3"
  },
  "language_info": {
   "codemirror_mode": {
    "name": "ipython",
    "version": 3
   },
   "file_extension": ".py",
   "mimetype": "text/x-python",
   "name": "python",
   "nbconvert_exporter": "python",
   "pygments_lexer": "ipython3",
   "version": "3.7.6"
  }
 },
 "nbformat": 4,
 "nbformat_minor": 4
}
