{
 "cells": [
  {
   "cell_type": "code",
   "execution_count": 2,
   "metadata": {
    "execution": {
     "iopub.execute_input": "2020-09-02T02:02:50.019436Z",
     "iopub.status.busy": "2020-09-02T02:02:50.019099Z",
     "iopub.status.idle": "2020-09-02T02:02:50.073994Z",
     "shell.execute_reply": "2020-09-02T02:02:50.072483Z",
     "shell.execute_reply.started": "2020-09-02T02:02:50.019397Z"
    }
   },
   "outputs": [
    {
     "name": "stdout",
     "output_type": "stream",
     "text": [
      "The autoreload extension is already loaded. To reload it, use:\n",
      "  %reload_ext autoreload\n"
     ]
    }
   ],
   "source": [
    "%load_ext autoreload\n",
    "%autoreload 2\n",
    "\n",
    "import numpy as np\n",
    "import pandas as pd\n",
    "import polygon_backfill as pb\n",
    "import pandas_bokeh"
   ]
  },
  {
   "cell_type": "code",
   "execution_count": 41,
   "metadata": {
    "execution": {
     "iopub.execute_input": "2020-09-02T02:23:45.118001Z",
     "iopub.status.busy": "2020-09-02T02:23:45.117348Z",
     "iopub.status.idle": "2020-09-02T02:23:45.206359Z",
     "shell.execute_reply": "2020-09-02T02:23:45.199382Z",
     "shell.execute_reply.started": "2020-09-02T02:23:45.117952Z"
    }
   },
   "outputs": [],
   "source": [
    "import os\n",
    "import s3fs\n",
    "from io import BytesIO\n",
    "\n",
    "\n",
    "def get_s3_df(symbol:str, date:str, columns=None) -> pd.DataFrame:\n",
    "    s3 = s3fs.S3FileSystem(\n",
    "        key=os.environ['B2_ACCESS_KEY_ID'], \n",
    "        secret=os.environ['B2_SECRET_ACCESS_KEY'], \n",
    "        client_kwargs={'endpoint_url': os.environ['B2_ENDPOINT_URL']}\n",
    "    )    \n",
    "    byte_data = s3.cat(f\"polygon-equities/data/trades/symbol={symbol}/date={date}/data.feather\")\n",
    "    df_bytes_io = BytesIO(byte_data)\n",
    "    return pd.read_feather(df_bytes_io, columns=columns)\n",
    "\n",
    "\n",
    "def condition_filter(condition_array):\n",
    "    confirmed_bad = [2, 5, 7, 10, 12, 13, 15, 16, 17, 18, 19, 20, 22, 28, 29, 33, 38, 52, 53]\n",
    "    if condition_array is not None:\n",
    "        filter = any(np.isin(condition_array, confirmed_bad))\n",
    "    else: \n",
    "        filter = False\n",
    "    return filter\n",
    "\n",
    "\n",
    "def outlier_score(df, window_len=7):\n",
    "    df['outlier_diff'] = abs(df.price - df.price.rolling(window=window_len, center=True).median())\n",
    "    df['outlier_zs'] = (df['outlier_diff'] - df['outlier_diff'].mean()) / df['outlier_diff'].std(ddof=0)\n",
    "    return df\n",
    "\n",
    "\n",
    "def plot_price(df):\n",
    "    df.price.plot(figsize=[20,7])\n"
   ]
  },
  {
   "cell_type": "code",
   "execution_count": 4,
   "metadata": {
    "execution": {
     "iopub.execute_input": "2020-09-02T02:04:40.511787Z",
     "iopub.status.busy": "2020-09-02T02:04:40.511434Z",
     "iopub.status.idle": "2020-09-02T02:04:42.704904Z",
     "shell.execute_reply": "2020-09-02T02:04:42.703343Z",
     "shell.execute_reply.started": "2020-09-02T02:04:40.511745Z"
    }
   },
   "outputs": [],
   "source": [
    "df = get_s3_df(symbol='SPY', date='2020-08-25', columns=['exchange_epoch', 'price', 'size', 'condition'])\n",
    "# df = pd.read_feather('data.feather', columns=['exchange_epoch', 'price', 'size', 'condition'])\n",
    "# df['date_time'] = pd.to_datetime(df.exchange_epoch)"
   ]
  },
  {
   "cell_type": "code",
   "execution_count": 9,
   "metadata": {
    "execution": {
     "iopub.execute_input": "2020-09-02T02:07:06.782751Z",
     "iopub.status.busy": "2020-09-02T02:07:06.782369Z",
     "iopub.status.idle": "2020-09-02T02:07:17.612443Z",
     "shell.execute_reply": "2020-09-02T02:07:17.611271Z",
     "shell.execute_reply.started": "2020-09-02T02:07:06.782711Z"
    }
   },
   "outputs": [],
   "source": [
    "bad_ticks = df.condition.apply(condition_filter)\n",
    "\n",
    "df_f = df[~bad_ticks]"
   ]
  },
  {
   "cell_type": "code",
   "execution_count": 42,
   "metadata": {
    "execution": {
     "iopub.execute_input": "2020-09-02T02:23:50.235986Z",
     "iopub.status.busy": "2020-09-02T02:23:50.235367Z",
     "iopub.status.idle": "2020-09-02T02:23:50.560312Z",
     "shell.execute_reply": "2020-09-02T02:23:50.559006Z",
     "shell.execute_reply.started": "2020-09-02T02:23:50.235937Z"
    }
   },
   "outputs": [],
   "source": [
    "df_o = outlier_score(df)"
   ]
  },
  {
   "cell_type": "code",
   "execution_count": 43,
   "metadata": {
    "collapsed": true,
    "execution": {
     "iopub.execute_input": "2020-09-02T02:23:51.779071Z",
     "iopub.status.busy": "2020-09-02T02:23:51.778383Z",
     "iopub.status.idle": "2020-09-02T02:23:52.033140Z",
     "shell.execute_reply": "2020-09-02T02:23:52.032168Z",
     "shell.execute_reply.started": "2020-09-02T02:23:51.779023Z"
    },
    "jupyter": {
     "outputs_hidden": true
    }
   },
   "outputs": [
    {
     "name": "stderr",
     "output_type": "stream",
     "text": [
      "/Users/bobcolner/opt/miniconda3/envs/backfill/lib/python3.7/site-packages/ipykernel_launcher.py:27: SettingWithCopyWarning: \n",
      "A value is trying to be set on a copy of a slice from a DataFrame.\n",
      "Try using .loc[row_indexer,col_indexer] = value instead\n",
      "\n",
      "See the caveats in the documentation: https://pandas.pydata.org/pandas-docs/stable/user_guide/indexing.html#returning-a-view-versus-a-copy\n",
      "/Users/bobcolner/opt/miniconda3/envs/backfill/lib/python3.7/site-packages/ipykernel_launcher.py:28: SettingWithCopyWarning: \n",
      "A value is trying to be set on a copy of a slice from a DataFrame.\n",
      "Try using .loc[row_indexer,col_indexer] = value instead\n",
      "\n",
      "See the caveats in the documentation: https://pandas.pydata.org/pandas-docs/stable/user_guide/indexing.html#returning-a-view-versus-a-copy\n"
     ]
    }
   ],
   "source": [
    "df_f_o = outlier_score(df_f)"
   ]
  },
  {
   "cell_type": "code",
   "execution_count": null,
   "metadata": {},
   "outputs": [],
   "source": [
    "# df['price_diff'] = df.price.diff()\n",
    "# df['price_diff_zscore'] = (df['price_diff'] - df['price_diff'].mean()) / df['price_diff'].std(ddof=0)\n",
    "\n",
    "df['cond_str'] = df.condition.astype('str')\n",
    "\n",
    "# df['price_rmed'] = \n",
    "# df['price_rmed_diff'] = abs(df.price - df.price.rolling(window=7, center=True).median())\n",
    "price_rmed_diff = abs(df.price - df.price.rolling(window=7, center=True).median())\n",
    "df['price_rmed_diff_zs'] = (price_rmed_diff - price_rmed_diff.mean()) / price_rmed_diff.std(ddof=0)"
   ]
  },
  {
   "cell_type": "code",
   "execution_count": null,
   "metadata": {},
   "outputs": [],
   "source": [
    "good = [0, 1, 3, 4, 8, 9, 11, 14, 23, 25, 27, 28, 30, 34, 36]\n",
    "listed_bad = [2, 5, 7, 10, 13, 15, 16, 17, 18, 19, 20, 21, 22, 29, 33, 37, 52, 53]\n",
    "confirmed_bad = [2, 7, 10, 12, 13, 15, 16, 17, 20, 22, 38, 52, 53]\n",
    "neverseen_bad = [5, 18, 19, 21, 29, 33]\n",
    "listed_blank = [6, 17, 18, 19, 24, 26, 32, 35, 39-51, 54, 55, 56, 59]\n",
    "after_hours = [12]\n",
    "odd_lot = [37]\n",
    "neutral = [41]"
   ]
  },
  {
   "cell_type": "code",
   "execution_count": null,
   "metadata": {},
   "outputs": [],
   "source": [
    "df.groupby('cond_str')['price_rmed_diff_zs'].describe().sort_values('mean', ascending=False)"
   ]
  },
  {
   "cell_type": "code",
   "execution_count": null,
   "metadata": {},
   "outputs": [],
   "source": [
    "dfe = df.explode('condition').dropna()\n",
    "\n",
    "dfe.groupby('condition')['price_rmed_diff_zs'].describe().sort_values('mean', ascending=False)"
   ]
  },
  {
   "cell_type": "code",
   "execution_count": null,
   "metadata": {},
   "outputs": [],
   "source": [
    "df_w = pd.get_dummies(df.explode(column='condition'), columns=['condition']).reset_index().groupby('index').sum()"
   ]
  },
  {
   "cell_type": "code",
   "execution_count": null,
   "metadata": {},
   "outputs": [],
   "source": [
    "bad_ticks = df.condition.apply(filter_conditions)"
   ]
  },
  {
   "cell_type": "code",
   "execution_count": null,
   "metadata": {},
   "outputs": [],
   "source": [
    "wide_df = pd.get_dummies(df.condition.explode()).reset_index().groupby('index').sum()\n",
    "wide_df"
   ]
  },
  {
   "cell_type": "code",
   "execution_count": null,
   "metadata": {},
   "outputs": [],
   "source": [
    "df.loc[(df.price_rmed_diff_zs < 40), 'price_rmed_diff_zs'] = 0"
   ]
  },
  {
   "cell_type": "code",
   "execution_count": null,
   "metadata": {},
   "outputs": [],
   "source": [
    "full_df = wide_df.join(df['price_rmed_diff_zs'])\n",
    "full_df = full_df.dropna()"
   ]
  },
  {
   "cell_type": "code",
   "execution_count": null,
   "metadata": {},
   "outputs": [],
   "source": [
    "full_df_corr = full_df.corr()"
   ]
  },
  {
   "cell_type": "code",
   "execution_count": null,
   "metadata": {},
   "outputs": [],
   "source": [
    "full_df_corr['price_rmed_diff_zs'].sort_values(ascending=False)"
   ]
  },
  {
   "cell_type": "code",
   "execution_count": null,
   "metadata": {},
   "outputs": [],
   "source": [
    "df.price_rmed_diff_zs.plot_bokeh(kind='hist', sizing_mode=\"scale_height\", bins=500)"
   ]
  },
  {
   "cell_type": "code",
   "execution_count": null,
   "metadata": {},
   "outputs": [],
   "source": [
    "df.price_rmed_diff_zs.describe(percentiles=[.7,.8,.9,.99,.999])"
   ]
  },
  {
   "cell_type": "code",
   "execution_count": null,
   "metadata": {},
   "outputs": [],
   "source": [
    "full_df_corr.price_rmed_diff_zs.sort_values(ascending=False)"
   ]
  },
  {
   "cell_type": "code",
   "execution_count": null,
   "metadata": {},
   "outputs": [],
   "source": [
    "n = df.sort_values('price_rmed_diff_zs', ascending=False).index[80]\n",
    "n"
   ]
  },
  {
   "cell_type": "code",
   "execution_count": null,
   "metadata": {},
   "outputs": [],
   "source": [
    "df[n-7:n+7]"
   ]
  },
  {
   "cell_type": "code",
   "execution_count": null,
   "metadata": {},
   "outputs": [],
   "source": [
    "df2 = df\n",
    "df2.index = pd.to_datetime(df.exchange_epoch)"
   ]
  },
  {
   "cell_type": "code",
   "execution_count": null,
   "metadata": {},
   "outputs": [],
   "source": [
    "df2.price.plot(figsize=[20,5])"
   ]
  },
  {
   "cell_type": "code",
   "execution_count": null,
   "metadata": {},
   "outputs": [],
   "source": [
    "df2.price_rmed_diff_zs.plot(figsize=[20,5])"
   ]
  },
  {
   "cell_type": "code",
   "execution_count": null,
   "metadata": {},
   "outputs": [],
   "source": [
    "df.price_rmed_diff_zs[140000:160000].plot_bokeh(kind='hist', sizing_mode=\"scale_height\", bins=500)"
   ]
  },
  {
   "cell_type": "code",
   "execution_count": null,
   "metadata": {},
   "outputs": [],
   "source": [
    "trades = pb.get_ticks_date('GLD', '2020-08-03', 'trades')\n",
    "df = pb.trades_to_df(trades)\n",
    "# df = pd.read_feather('GLD_trades.feather')"
   ]
  },
  {
   "cell_type": "code",
   "execution_count": null,
   "metadata": {},
   "outputs": [],
   "source": [
    "from market_cluster import *\n",
    "\n",
    "symbol='DUST'\n",
    "start_date='2020-06-01'\n",
    "end_date='2020-07-04'\n",
    "result_path=\"/Users/bobcolner/QuantClarity/data\"\n",
    "date_partition='hive'\n",
    "tick_type='trades'\n",
    "formats=['feather', 'parquet']\n",
    "skip=True\n",
    "# backfill_data(symbol, start_date, end_date, result_path, date_partition, tick_type, formats, skip)\n",
    "\n",
    "# .plot_bokeh(kind='hist', bins=50, sizing_mode=\"scale_height\", disable_scientific_axes=True)\n",
    "# df.style.background_gradient(cmap='coolwarm', axis=None, vmin=-1, vmax=1)  # 'Blues', 'coolwarm', 'RdBu_r' & 'BrBG' are other good diverging colormaps\n",
    "# pd.set_option('precision', 2)"
   ]
  },
  {
   "cell_type": "code",
   "execution_count": null,
   "metadata": {},
   "outputs": [],
   "source": [
    "# %time df = read_market_daily(result_path)\n",
    "%time mdf = pd.read_parquet('data/mdf.parquet')\n",
    "\n",
    "%time npdf, sharpe_ratios = normalize_market_df(mdf)\n",
    "\n",
    "# %time npdf_resid = colwise_linreg(npdf)\n",
    "%time npdf_resid = pd.read_parquet('data/npdf_resid.parquet')\n",
    "\n",
    "# %time par_cor_mat = npdf_resid.corr()\n",
    "%time resid_par_cor_mat = pd.read_parquet('data/partial_cor_mat.parquet')\n",
    "\n",
    "%time details_df = pd.read_parquet('data/details_df.parquet')\n",
    "\n",
    "# cluster_lables = cluster_sim_matrix(similarity=resid_par_cor_mat.abs())\n",
    "%time cluster_lables = pd.read_parquet('data/cluster_lables.parquet')\n",
    "\n",
    "# symbol_meta = join_symbol_data(details_df, cluster_lables, sharpe_ratios, mdf)\n",
    "%time symbol_meta = pd.read_parquet('data/symbol_meta.parquet')\n",
    "\n",
    "# cluster_coheasion = get_cluster_coheasion(sim_df=resid_par_cor_mat.abs(), symbol_meta=symbol_meta, cluster_col='cluster_n200')"
   ]
  },
  {
   "cell_type": "code",
   "execution_count": null,
   "metadata": {},
   "outputs": [],
   "source": [
    "symbol_meta['liquidy_rank'] = symbol_meta.groupby('cluster_n200')['daily_avg_dollar_volume'].rank(method='first')\n",
    "\n",
    "symbol_meta = symbol_meta.sort_values(['cluster_n200', 'liquidy_rank']).reset_index()"
   ]
  },
  {
   "cell_type": "code",
   "execution_count": null,
   "metadata": {},
   "outputs": [],
   "source": [
    "by_cluster = symbol_meta.groupby('cluster_n200')\n",
    "result = []\n",
    "for cluster, frame in by_cluster:\n",
    "    counts = dict(frame['sector'].value_counts())\n",
    "    counts.pop('', None)  # drop symbols w/o sector/industry info\n",
    "    result.append(counts)\n",
    "\n",
    "cluster_sec = pd.DataFrame(result)    \n",
    "cluster_sec = cluster_sec.drop(columns=['Finance'])\n",
    "cluster_sec_pct = cluster_sec.apply(lambda x: 100 * x / float(x.sum()), axis=1)"
   ]
  },
  {
   "cell_type": "code",
   "execution_count": null,
   "metadata": {},
   "outputs": [],
   "source": [
    "cluster_sec_pct.style.background_gradient(cmap='coolwarm', axis=0)"
   ]
  },
  {
   "cell_type": "code",
   "execution_count": null,
   "metadata": {},
   "outputs": [],
   "source": [
    "# n += 1\n",
    "n = 61\n",
    "print(n)\n",
    "symbol_meta[symbol_meta.cluster_n200==n].sector.value_counts()"
   ]
  },
  {
   "cell_type": "code",
   "execution_count": null,
   "metadata": {},
   "outputs": [],
   "source": [
    "sym_clust = symbol_meta[symbol_meta.cluster_n200==n]\n",
    "sym_clust"
   ]
  },
  {
   "cell_type": "code",
   "execution_count": null,
   "metadata": {},
   "outputs": [],
   "source": [
    "import random\n",
    "\n",
    "random.choices(population=list(sym_clust.symbol), weights=list(sym_clust.liquidy_rank), k=len(sym_clust.symbol))"
   ]
  },
  {
   "cell_type": "code",
   "execution_count": null,
   "metadata": {},
   "outputs": [],
   "source": [
    "from scipy.cluster.hierarchy import linkage, is_valid_linkage, fcluster\n",
    "from scipy.spatial.distance import pdist\n",
    "\n",
    "## Load dataset\n",
    "X = np.load(\"dataset.npy\")\n",
    "\n",
    "## Hierarchical clustering\n",
    "dists = pdist(X)\n",
    "Z = linkage(dists, method='centroid', metric='euclidean')\n",
    "\n",
    "print(is_valid_linkage(Z))\n",
    "\n",
    "## Now let's say we want the flat cluster assignement with 10 clusters.\n",
    "#  If cut_tree() was working we would do\n",
    "from scipy.cluster.hierarchy import cut_tree\n",
    "cut = cut_tree(Z, 10)\n",
    "\n",
    "clust = fcluster(Z, k, criterion='maxclust')"
   ]
  },
  {
   "cell_type": "code",
   "execution_count": null,
   "metadata": {},
   "outputs": [],
   "source": [
    "# from scipy.cluster.hierarchy import cut_tree\n",
    "from scipy import cluster\n",
    "np.random.seed(23)\n",
    "X = np.random.randn(50, 4)\n",
    "Z = cluster.hierarchy.ward(X, )\n",
    "cutree = cluster.hierarchy.cut_tree(Z, n_clusters=[5, 10])\n",
    "cutree[:10]"
   ]
  },
  {
   "cell_type": "code",
   "execution_count": null,
   "metadata": {},
   "outputs": [],
   "source": [
    "def compound_interest(principle:float, rate:float, peroids:int): \n",
    "    # Calculates compound interest  \n",
    "    total_return = principle * (pow((1 + rate / 100), peroids)) \n",
    "    print(\"Total Interest $:\", round(total_return, 2))\n",
    "    print(\"Anualized Peroid %\", round(total_return / principle, 1) * 100)\n",
    "\n",
    "# compount daily for 1 year (market days)\n",
    "compound_interest(principle=100000, rate=.5, peroids=250)\n"
   ]
  },
  {
   "cell_type": "code",
   "execution_count": null,
   "metadata": {},
   "outputs": [],
   "source": [
    "import os\n",
    "import pyarrow.dataset as ds\n",
    "from pyarrow import fs\n",
    "\n",
    "s3  = fs.S3FileSystem(\n",
    "    access_key=os.environ['B2_ACCESS_KEY_ID'], \n",
    "    secret_key=os.environ['B2_SECRET_ACCESS_KEY'], \n",
    "    endpoint_override=os.environ['B2_ENDPOINT_URL']\n",
    ")\n",
    "\n",
    "dataset = ds.dataset(\n",
    "    source='polygon-equities/data/trades/',\n",
    "    format='feather',\n",
    "    filesystem=s3,\n",
    "    partitioning='hive',\n",
    "    exclude_invalid_files=True\n",
    ")\n",
    "\n",
    "subset = (ds.field('symbol') == 'SPY') & (ds.field('date') == '2020-08-05')\n",
    "\n",
    "df = dataset.to_table(filter=subset).to_pandas()"
   ]
  }
 ],
 "metadata": {
  "kernelspec": {
   "display_name": "Python 3",
   "language": "python",
   "name": "python3"
  },
  "language_info": {
   "codemirror_mode": {
    "name": "ipython",
    "version": 3
   },
   "file_extension": ".py",
   "mimetype": "text/x-python",
   "name": "python",
   "nbconvert_exporter": "python",
   "pygments_lexer": "ipython3",
   "version": "3.7.8"
  }
 },
 "nbformat": 4,
 "nbformat_minor": 4
}
