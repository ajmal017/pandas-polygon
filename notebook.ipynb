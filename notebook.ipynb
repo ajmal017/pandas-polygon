{
 "cells": [
  {
   "cell_type": "code",
   "execution_count": 229,
   "metadata": {
    "ExecuteTime": {
     "end_time": "2020-02-05T06:11:28.598716Z",
     "start_time": "2020-02-05T06:11:28.535594Z"
    }
   },
   "outputs": [
    {
     "name": "stdout",
     "output_type": "stream",
     "text": [
      "Object `if` not found.\n"
     ]
    }
   ],
   "source": [
    "if()"
   ]
  },
  {
   "cell_type": "code",
   "execution_count": 1,
   "metadata": {
    "ExecuteTime": {
     "end_time": "2020-02-04T19:54:24.972294Z",
     "start_time": "2020-02-04T19:54:22.613791Z"
    }
   },
   "outputs": [],
   "source": [
    "# docker run -p 8888:8888 jupyter/datascience-notebook:latest\n",
    "import os\n",
    "import datetime\n",
    "import numpy as np\n",
    "import pandas as pd\n",
    "\n",
    "import qgrid\n",
    "qgrid.enable()\n",
    "# qgrid.disable()\n",
    "\n",
    "import api\n",
    "import bars\n",
    "\n",
    "%load_ext autoreload\n",
    "%autoreload 2\n",
    "\n",
    "# import ipdb; ipdb.set_trace(context=10)\n",
    "# import pudb; pu.db"
   ]
  },
  {
   "cell_type": "code",
   "execution_count": 29,
   "metadata": {
    "ExecuteTime": {
     "end_time": "2020-02-04T20:03:52.686506Z",
     "start_time": "2020-02-04T20:03:52.624229Z"
    }
   },
   "outputs": [],
   "source": [
    "symbol='GLD'\n",
    "fmat = 'parquet'\n",
    "date = '2019-05-09'\n",
    "\n",
    "ts = bars.read_matching_files(f\"../data/ticks/{fmat}/{symbol}/{symbol}_{date}.{fmat}\", format=fmat)\n",
    "ts = bars.add_datetime(ts)"
   ]
  },
  {
   "cell_type": "code",
   "execution_count": 135,
   "metadata": {
    "ExecuteTime": {
     "end_time": "2020-02-04T21:06:53.407601Z",
     "start_time": "2020-02-04T21:06:53.340503Z"
    }
   },
   "outputs": [
    {
     "data": {
      "text/plain": [
       "289"
      ]
     },
     "execution_count": 135,
     "metadata": {},
     "output_type": "execute_result"
    }
   ],
   "source": [
    "dr = pd.date_range(start='2019-05-09', end='2019-05-10', freq='5min', tz='utc')\n",
    "for i in list(range(len(dr))):\n",
    "    ticks = ts[(ts.date_time >= dr[i]) & (ts.date_time < dr[i+1])]\n"
   ]
  },
  {
   "cell_type": "code",
   "execution_count": 223,
   "metadata": {
    "ExecuteTime": {
     "end_time": "2020-02-04T23:16:50.288080Z",
     "start_time": "2020-02-04T23:16:50.139102Z"
    }
   },
   "outputs": [
    {
     "name": "stdout",
     "output_type": "stream",
     "text": [
      "2019-05-09 16:55:00+00:00\n"
     ]
    },
    {
     "data": {
      "application/vnd.jupyter.widget-view+json": {
       "model_id": "7e24a0bddadb4924abe3779e96d5fa1e",
       "version_major": 2,
       "version_minor": 0
      },
      "text/plain": [
       "QgridWidget(grid_options={'fullWidthRows': True, 'syncColumnCellResize': True, 'forceFitColumns': True, 'defau…"
      ]
     },
     "metadata": {},
     "output_type": "display_data"
    }
   ],
   "source": [
    "i = 203\n",
    "print(dr[i])\n",
    "ticks = ts[(ts.date_time >= dr[i]) & (ts.date_time < dr[i+1])]\n",
    "ticks"
   ]
  },
  {
   "cell_type": "code",
   "execution_count": null,
   "metadata": {
    "ExecuteTime": {
     "end_time": "2020-02-04T09:09:35.622254Z",
     "start_time": "2020-02-04T09:09:33.363370Z"
    },
    "scrolled": true
   },
   "outputs": [],
   "source": [
    "state = bars.reset_state()\n",
    "output_bars = []\n",
    "nrow = 0\n",
    "\n",
    "while nrow < len(ts):\n",
    "       \n",
    "    input_tick = {}\n",
    "    input_tick['epoch'] = ts['epoch'][nrow]\n",
    "    input_tick['price'] = ts['price'][nrow]\n",
    "    input_tick['volume'] = ts['volume'][nrow]\n",
    "\n",
    "    output_bars, state = bars.update_bar(input_tick, output_bars, state)\n",
    "    \n",
    "    nrow += 1\n"
   ]
  },
  {
   "cell_type": "code",
   "execution_count": null,
   "metadata": {
    "ExecuteTime": {
     "end_time": "2020-02-04T09:10:38.768360Z",
     "start_time": "2020-02-04T09:10:38.685744Z"
    }
   },
   "outputs": [],
   "source": [
    "pd.to_datetime(output_bars[2]['close_time'])"
   ]
  },
  {
   "cell_type": "code",
   "execution_count": null,
   "metadata": {
    "ExecuteTime": {
     "end_time": "2020-02-04T09:10:06.361158Z",
     "start_time": "2020-02-04T09:10:06.216201Z"
    }
   },
   "outputs": [],
   "source": [
    "pd.DataFrame(output_bars)"
   ]
  }
 ],
 "metadata": {
  "kernelspec": {
   "display_name": "Python 3",
   "language": "python",
   "name": "python3"
  },
  "language_info": {
   "codemirror_mode": {
    "name": "ipython",
    "version": 3
   },
   "file_extension": ".py",
   "mimetype": "text/x-python",
   "name": "python",
   "nbconvert_exporter": "python",
   "pygments_lexer": "ipython3",
   "version": "3.7.6"
  },
  "varInspector": {
   "cols": {
    "lenName": 16,
    "lenType": 16,
    "lenVar": 40
   },
   "kernels_config": {
    "python": {
     "delete_cmd_postfix": "",
     "delete_cmd_prefix": "del ",
     "library": "var_list.py",
     "varRefreshCmd": "print(var_dic_list())"
    },
    "r": {
     "delete_cmd_postfix": ") ",
     "delete_cmd_prefix": "rm(",
     "library": "var_list.r",
     "varRefreshCmd": "cat(var_dic_list()) "
    }
   },
   "types_to_exclude": [
    "module",
    "function",
    "builtin_function_or_method",
    "instance",
    "_Feature"
   ],
   "window_display": false
  }
 },
 "nbformat": 4,
 "nbformat_minor": 2
}
