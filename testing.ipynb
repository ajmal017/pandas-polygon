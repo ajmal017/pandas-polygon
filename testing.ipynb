{
 "cells": [
  {
   "cell_type": "markdown",
   "metadata": {},
   "source": [
    "# Imports"
   ]
  },
  {
   "cell_type": "code",
   "execution_count": 2,
   "metadata": {
    "ExecuteTime": {
     "end_time": "2020-01-20T07:27:41.933268Z",
     "start_time": "2020-01-20T07:27:41.850712Z"
    },
    "scrolled": false
   },
   "outputs": [
    {
     "name": "stdout",
     "output_type": "stream",
     "text": [
      "The autoreload extension is already loaded. To reload it, use:\n",
      "  %reload_ext autoreload\n"
     ]
    }
   ],
   "source": [
    "import os\n",
    "import datetime\n",
    "import pickle\n",
    "import numpy as np\n",
    "import pandas as pd\n",
    "# import dask.dataframe as dd\n",
    "# import vaex\n",
    "# import modin.pandas as md\n",
    "import qgrid\n",
    "qgrid.enable()\n",
    "# qgrid.disable()\n",
    "\n",
    "%load_ext autoreload\n",
    "%autoreload 2\n",
    "import polygon_rest_api as api\n",
    "\n",
    "# import ipdb\n",
    "# ipdb.post_mortem()"
   ]
  },
  {
   "cell_type": "code",
   "execution_count": 3,
   "metadata": {
    "ExecuteTime": {
     "end_time": "2020-01-20T07:27:43.030763Z",
     "start_time": "2020-01-20T07:27:42.442578Z"
    }
   },
   "outputs": [],
   "source": [
    "from bokeh.io import show\n",
    "from bokeh.models import ColumnDataSource\n",
    "from bokeh.palettes import RdBu3\n",
    "from bokeh.plotting import figure"
   ]
  },
  {
   "cell_type": "markdown",
   "metadata": {},
   "source": [
    "# Params"
   ]
  },
  {
   "cell_type": "code",
   "execution_count": 4,
   "metadata": {
    "ExecuteTime": {
     "end_time": "2020-01-20T07:27:46.217174Z",
     "start_time": "2020-01-20T07:27:46.144598Z"
    }
   },
   "outputs": [],
   "source": [
    "symbol='GLD'\n",
    "fmat = 'parquet'\n",
    "start_date = '2019-01-01'\n",
    "end_date = datetime.date.today().isoformat()"
   ]
  },
  {
   "cell_type": "markdown",
   "metadata": {},
   "source": [
    "# Download Tick data"
   ]
  },
  {
   "cell_type": "code",
   "execution_count": null,
   "metadata": {
    "ExecuteTime": {
     "end_time": "2020-01-17T07:22:49.625051Z",
     "start_time": "2020-01-17T07:22:49.309Z"
    },
    "scrolled": true
   },
   "outputs": [],
   "source": [
    "# ts = api.get_trades_date(symbol, date='2019-12-03')\n",
    "\n",
    "ts = api.get_trades_dates(symbol, start_date, end_date)"
   ]
  },
  {
   "cell_type": "markdown",
   "metadata": {
    "ExecuteTime": {
     "end_time": "2020-01-16T03:42:27.562214Z",
     "start_time": "2020-01-16T03:37:01.593Z"
    }
   },
   "source": [
    "# Read Tick data"
   ]
  },
  {
   "cell_type": "code",
   "execution_count": 5,
   "metadata": {
    "ExecuteTime": {
     "end_time": "2020-01-20T07:28:00.055050Z",
     "start_time": "2020-01-20T07:27:59.868135Z"
    }
   },
   "outputs": [],
   "source": [
    "date = '2019-05-08'\n",
    "ts = api.read_matching_files(f\"data/ticks/{fmat}/{symbol}/{symbol}_{date}.{fmat}\", format=fmat)\n",
    "\n",
    "# ts_dd = dd.read_parquet(f\"data/ticks/{fmat}/{symbol}/{symbol}_2020-*.{fmat}\")"
   ]
  },
  {
   "cell_type": "markdown",
   "metadata": {},
   "source": [
    "# Process Trades Data"
   ]
  },
  {
   "cell_type": "code",
   "execution_count": 6,
   "metadata": {
    "ExecuteTime": {
     "end_time": "2020-01-20T07:28:24.237783Z",
     "start_time": "2020-01-20T07:28:14.977601Z"
    }
   },
   "outputs": [],
   "source": [
    "ts['timestamp'] = pd.to_datetime(ts['epoch'], utc=True, unit='ns')\n",
    "\n",
    "ts['vwap1'] = api.rolling_decay_vwap(ts, window_len=10, decay='none')\n",
    "ts['vwap2'] = api.rolling_decay_vwap(ts, window_len=10, decay='linear')\n"
   ]
  },
  {
   "cell_type": "code",
   "execution_count": 8,
   "metadata": {
    "ExecuteTime": {
     "end_time": "2020-01-20T07:29:22.152515Z",
     "start_time": "2020-01-20T07:29:21.345299Z"
    }
   },
   "outputs": [],
   "source": [
    "\n",
    "p = figure(title=f\"{symbol} | {date}\", x_axis_type='datetime', plot_width=1300, plot_height=750, output_backend=\"webgl\")\n",
    "\n",
    "p.multi_line(xs=[ts.timestamp, ts.timestamp, ts.timestamp], ys=[ts.price, ts.vwap1, ts.vwap2], color=[\"firebrick\", \"navy\", \"green\"], alpha=[0.2, 0.5, 0.5], line_width=3)\n",
    "\n",
    "# p.line(x=ts2.timestamp, y=ts2.vwap, line_width=2)\n",
    "# p.scatter(x=ts2.timestamp, y=ts2.price line_width=2, alpha=0.5)\n",
    "\n",
    "show(p)\n"
   ]
  },
  {
   "cell_type": "code",
   "execution_count": null,
   "metadata": {},
   "outputs": [],
   "source": [
    "nrows = list(range(len(ts)))\n",
    "window_len = 7\n",
    "vwap = []\n",
    "for nrow in nrows:\n",
    "    if nrow >= window_len:\n",
    "        price = ts['price'][nrow - window_len:nrow].values\n",
    "        volume = ts['volume'][nrow - window_len:nrow].values\n",
    "        tmp = \n",
    "        vwap.append(tmp)\n",
    "    else:\n",
    "        vwap.append(None)\n",
    "vwap\n"
   ]
  },
  {
   "cell_type": "code",
   "execution_count": null,
   "metadata": {
    "ExecuteTime": {
     "end_time": "2020-01-17T07:22:49.681960Z",
     "start_time": "2020-01-17T07:22:49.323Z"
    }
   },
   "outputs": [],
   "source": [
    "\n",
    "c1 = RdBu3[2] # red\n",
    "c2 = RdBu3[0] # blue\n",
    "\n",
    "outliers_idx = api.get_outliers(ts, 7)\n",
    "out = np.where(outliers_idx, c1, c2)\n",
    "label = np.where(outliers_idx, 'outlier', 'normal')\n",
    "\n",
    "source = ColumnDataSource(dict(\n",
    "    x=ts.timestamp,\n",
    "    y=ts.price,\n",
    "    color=out,\n",
    "    label=label\n",
    "))\n",
    "\n",
    "p = figure(title=f\"{symbol} ticks\", x_axis_type='datetime', plot_width=1200, plot_height=700)\n",
    "\n",
    "# p.line(x='x', y='y', legend=\"label\", line_width=2, source=source)\n",
    "# p.circle( x='x', y='y', radius=0.5, color='color', legend_group='label', source=source)\n",
    "p.scatter(x='x', y='y', color='color', legend_group='label', source=source)\n",
    "\n",
    "show(p)"
   ]
  },
  {
   "cell_type": "code",
   "execution_count": null,
   "metadata": {
    "ExecuteTime": {
     "end_time": "2020-01-17T07:22:49.700372Z",
     "start_time": "2020-01-17T07:22:49.329Z"
    }
   },
   "outputs": [],
   "source": [
    "# vf = vaex.from_csv(f\"data/ticks/csv/{symbol}/{symbol}_2020-01-03.csv\")\n",
    "vf = vaex.from_csv(f\"data/ticks/csv/{symbol}/{symbol}_2020-01-03.csv\")\n",
    "\n",
    "# vf = vaex.open('data/ticks/csv/LYFT/*.csv')\n",
    "vf = vaex.open('data/ticks/parquet/LYFT/*.parquet')"
   ]
  },
  {
   "cell_type": "code",
   "execution_count": null,
   "metadata": {
    "ExecuteTime": {
     "end_time": "2020-01-17T07:22:49.708126Z",
     "start_time": "2020-01-17T07:22:49.331Z"
    }
   },
   "outputs": [],
   "source": [
    "# ts = df_pd\n",
    "# ts\n",
    "# len(ts)\n",
    "# len(ts[ts.duplicated()]) #/ len(ts)\n",
    "# len(ts[ts.duplicated(subset='sip_epoch')])\n",
    "# len(ts[ts.duplicated(subset='timestamp')]) / len(ts)\n",
    "len(ts[ts.duplicated(subset=['sequence', 'price', 'volume'])]) / len(ts)"
   ]
  },
  {
   "cell_type": "code",
   "execution_count": null,
   "metadata": {
    "ExecuteTime": {
     "end_time": "2020-01-17T07:22:49.713045Z",
     "start_time": "2020-01-17T07:22:49.334Z"
    },
    "scrolled": false
   },
   "outputs": [],
   "source": [
    "# ts[ts.duplicated(keep=False)].iloc[0:30]\n",
    "# ts[ts.duplicated(keep=False, subset=['sequence', 'price', 'volume'])].sort_values(['sequence', 'price', 'volume']).iloc[0:30]\n",
    "# ts[ts.duplicated(keep=False, subset='timestamp')].sort_values('timestamp').iloc[1:30]"
   ]
  }
 ],
 "metadata": {
  "kernelspec": {
   "display_name": "Python 3",
   "language": "python",
   "name": "python3"
  },
  "language_info": {
   "codemirror_mode": {
    "name": "ipython",
    "version": 3
   },
   "file_extension": ".py",
   "mimetype": "text/x-python",
   "name": "python",
   "nbconvert_exporter": "python",
   "pygments_lexer": "ipython3",
   "version": "3.7.1"
  },
  "toc": {
   "base_numbering": 1,
   "nav_menu": {
    "height": "410px",
    "width": "362px"
   },
   "number_sections": false,
   "sideBar": true,
   "skip_h1_title": false,
   "title_cell": "Table of Contents",
   "title_sidebar": "Contents",
   "toc_cell": false,
   "toc_position": {
    "height": "618px",
    "left": "69px",
    "top": "112px",
    "width": "199.344px"
   },
   "toc_section_display": true,
   "toc_window_display": false
  }
 },
 "nbformat": 4,
 "nbformat_minor": 4
}
